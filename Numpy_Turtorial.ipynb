{
  "nbformat": 4,
  "nbformat_minor": 0,
  "metadata": {
    "colab": {
      "provenance": []
    },
    "kernelspec": {
      "name": "python3",
      "display_name": "Python 3"
    },
    "language_info": {
      "name": "python"
    }
  },
  "cells": [
    {
      "cell_type": "markdown",
      "source": [
        "#**Numpy tutorial**\n",
        "\n",
        "we will learn creating arrays , using random function , indexing arrays , slicing arrays , statistical and mathematical functions and practical working.\n",
        "\n",
        "We will do some operations on real world datasets which we will import from kaggle."
      ],
      "metadata": {
        "id": "_2YtrPqhiX91"
      }
    },
    {
      "cell_type": "code",
      "source": [
        "import numpy as np # np is the alias\n",
        "\n",
        "\n",
        "arr = np.array([1,2,3,4,5]) # 1 dimensional or 1-D array\n",
        "print(arr)\n",
        "print(type(arr)) # checking the type of the variable\n",
        "print(arr.dtype)"
      ],
      "metadata": {
        "colab": {
          "base_uri": "https://localhost:8080/"
        },
        "id": "3SgF5WGDikDp",
        "outputId": "8a711a00-56d0-48bf-a48c-5d8cbf5ad4d6"
      },
      "execution_count": null,
      "outputs": [
        {
          "output_type": "stream",
          "name": "stdout",
          "text": [
            "[1 2 3 4 5]\n",
            "<class 'numpy.ndarray'>\n",
            "int64\n"
          ]
        }
      ]
    },
    {
      "cell_type": "code",
      "source": [
        "arr2d = np.array([[1,2,3],[4,5,6]]) # 2-D array\n",
        "arr3d = np.array([[[1,2,3],[4,5,6],[7,8,9]],[[1,2,3],[4,5,6],[7,8,9]]]) # 3-D array\n",
        "print(arr2d)\n",
        "print(type(arr2d))\n",
        "print(arr3d)\n",
        "print(type(arr3d))\n"
      ],
      "metadata": {
        "colab": {
          "base_uri": "https://localhost:8080/"
        },
        "id": "o6o9DvBDir42",
        "outputId": "29f764ec-c594-4be1-bc74-a67b5d02fcc6"
      },
      "execution_count": null,
      "outputs": [
        {
          "output_type": "stream",
          "name": "stdout",
          "text": [
            "[[1 2 3]\n",
            " [4 5 6]]\n",
            "<class 'numpy.ndarray'>\n",
            "[[[1 2 3]\n",
            "  [4 5 6]\n",
            "  [7 8 9]]\n",
            "\n",
            " [[1 2 3]\n",
            "  [4 5 6]\n",
            "  [7 8 9]]]\n",
            "<class 'numpy.ndarray'>\n"
          ]
        }
      ]
    },
    {
      "cell_type": "code",
      "source": [
        "print(np.shape(arr)) # getting shapes ---> rows x columns\n",
        "print(np.shape(arr2d)) # shape of 2-D array\n",
        "print(np.shape(arr3d))\n"
      ],
      "metadata": {
        "colab": {
          "base_uri": "https://localhost:8080/"
        },
        "id": "Utab9S0ijk-d",
        "outputId": "f3a4a087-bd94-4f35-ab4f-00667a47af3c"
      },
      "execution_count": null,
      "outputs": [
        {
          "output_type": "stream",
          "name": "stdout",
          "text": [
            "(5,)\n",
            "(2, 3)\n",
            "(2, 3, 3)\n"
          ]
        }
      ]
    },
    {
      "cell_type": "code",
      "source": [
        "arrn = np.reshape(arr,(5,1)) # know this that even shape of arra was shown as (5,) but actually it was in the format of\n",
        "# (1,5) which means a single row and 5 columns and here we reversed the order of the matrix\n",
        "print(arrn)\n"
      ],
      "metadata": {
        "colab": {
          "base_uri": "https://localhost:8080/"
        },
        "id": "bkrfQ2q2jscr",
        "outputId": "42fd8b73-a15f-4822-992f-f608fcf7352a"
      },
      "execution_count": null,
      "outputs": [
        {
          "output_type": "stream",
          "name": "stdout",
          "text": [
            "[[1]\n",
            " [2]\n",
            " [3]\n",
            " [4]\n",
            " [5]]\n"
          ]
        }
      ]
    },
    {
      "cell_type": "code",
      "source": [
        "arrn2d = np.reshape(arr3d,(9,-1)) # we converted this 3-D arr3d array into a new 2-D array. you can skip one of the shape values as -1 and reshape will calculate the value of that place automatically.\n",
        "# but you can't leave more than one shape value as -1\n",
        "print(arrn2d)\n"
      ],
      "metadata": {
        "colab": {
          "base_uri": "https://localhost:8080/"
        },
        "id": "U3VZoctnjv1Z",
        "outputId": "06290644-7f84-484c-e192-78038ecb6a43"
      },
      "execution_count": null,
      "outputs": [
        {
          "output_type": "stream",
          "name": "stdout",
          "text": [
            "[[1 2]\n",
            " [3 4]\n",
            " [5 6]\n",
            " [7 8]\n",
            " [9 1]\n",
            " [2 3]\n",
            " [4 5]\n",
            " [6 7]\n",
            " [8 9]]\n"
          ]
        }
      ]
    },
    {
      "cell_type": "code",
      "source": [
        "mat = np.random.rand(3,3,3) # this is use of random function where we generate random inputs of elements for a predefined shape of array.\n",
        "# THe elements always range from 0 to 1 both being exclusive.\n",
        "print(mat)\n"
      ],
      "metadata": {
        "colab": {
          "base_uri": "https://localhost:8080/"
        },
        "id": "1gtsHCZ-jzOP",
        "outputId": "357f112e-d989-49b7-ff27-27b83156fa6d"
      },
      "execution_count": null,
      "outputs": [
        {
          "output_type": "stream",
          "name": "stdout",
          "text": [
            "[[[4.33589787e-01 5.80848263e-01 8.21735557e-02]\n",
            "  [3.77735006e-01 7.63282611e-01 5.82729985e-01]\n",
            "  [5.73352502e-01 3.08845441e-01 1.44843926e-01]]\n",
            "\n",
            " [[3.19325196e-01 4.61260000e-01 6.47112704e-01]\n",
            "  [3.87428920e-01 7.14749299e-02 4.59667889e-01]\n",
            "  [3.73470683e-01 1.12550423e-04 8.73250830e-01]]\n",
            "\n",
            " [[8.91259043e-01 8.30250333e-01 8.58998982e-01]\n",
            "  [8.75472742e-01 5.82356469e-01 9.90595002e-02]\n",
            "  [1.35495955e-01 1.82007612e-01 5.47427969e-01]]]\n"
          ]
        }
      ]
    },
    {
      "cell_type": "code",
      "source": [
        "mat1 = np.random.rand(3,3,3) # as u can see we ran the same piece of code with new name and the elements are different\n",
        "# if you run this or previous block , the array will change again\n",
        "print(mat)\n"
      ],
      "metadata": {
        "colab": {
          "base_uri": "https://localhost:8080/"
        },
        "id": "JfEDSh5Oj2l3",
        "outputId": "2953f7fa-01ff-42c2-df93-e2ba8bb42315"
      },
      "execution_count": null,
      "outputs": [
        {
          "output_type": "stream",
          "name": "stdout",
          "text": [
            "[[[4.33589787e-01 5.80848263e-01 8.21735557e-02]\n",
            "  [3.77735006e-01 7.63282611e-01 5.82729985e-01]\n",
            "  [5.73352502e-01 3.08845441e-01 1.44843926e-01]]\n",
            "\n",
            " [[3.19325196e-01 4.61260000e-01 6.47112704e-01]\n",
            "  [3.87428920e-01 7.14749299e-02 4.59667889e-01]\n",
            "  [3.73470683e-01 1.12550423e-04 8.73250830e-01]]\n",
            "\n",
            " [[8.91259043e-01 8.30250333e-01 8.58998982e-01]\n",
            "  [8.75472742e-01 5.82356469e-01 9.90595002e-02]\n",
            "  [1.35495955e-01 1.82007612e-01 5.47427969e-01]]]\n"
          ]
        }
      ]
    },
    {
      "cell_type": "code",
      "source": [
        "state = np.random.RandomState(21) # here we state a random state , which means we are storing this session and when we use\n",
        "# this random state again , you will get the same array as this one.\n",
        "# The number 21 can be replaced with any number as per your wish , but when u want to get the same sample you need to set\n",
        "# the same number again\n",
        "mat2 = np.random.rand(3,3,3)\n",
        "print(mat)"
      ],
      "metadata": {
        "colab": {
          "base_uri": "https://localhost:8080/"
        },
        "id": "w77SWkUdj56J",
        "outputId": "ad63c7b7-bda4-4049-96d4-2f351d13c6c5"
      },
      "execution_count": null,
      "outputs": [
        {
          "output_type": "stream",
          "name": "stdout",
          "text": [
            "[[[4.33589787e-01 5.80848263e-01 8.21735557e-02]\n",
            "  [3.77735006e-01 7.63282611e-01 5.82729985e-01]\n",
            "  [5.73352502e-01 3.08845441e-01 1.44843926e-01]]\n",
            "\n",
            " [[3.19325196e-01 4.61260000e-01 6.47112704e-01]\n",
            "  [3.87428920e-01 7.14749299e-02 4.59667889e-01]\n",
            "  [3.73470683e-01 1.12550423e-04 8.73250830e-01]]\n",
            "\n",
            " [[8.91259043e-01 8.30250333e-01 8.58998982e-01]\n",
            "  [8.75472742e-01 5.82356469e-01 9.90595002e-02]\n",
            "  [1.35495955e-01 1.82007612e-01 5.47427969e-01]]]\n"
          ]
        }
      ]
    },
    {
      "cell_type": "code",
      "source": [
        "state = np.random.RandomState(21) # this code is proof of the previous claim\n",
        "mat3 = np.random.rand(3,3,3)\n",
        "print(mat)\n"
      ],
      "metadata": {
        "colab": {
          "base_uri": "https://localhost:8080/"
        },
        "id": "77fwVBtSj9kb",
        "outputId": "d63eccfd-1e8e-42ed-fee6-5cd2ac232c8b"
      },
      "execution_count": null,
      "outputs": [
        {
          "output_type": "stream",
          "name": "stdout",
          "text": [
            "[[[4.33589787e-01 5.80848263e-01 8.21735557e-02]\n",
            "  [3.77735006e-01 7.63282611e-01 5.82729985e-01]\n",
            "  [5.73352502e-01 3.08845441e-01 1.44843926e-01]]\n",
            "\n",
            " [[3.19325196e-01 4.61260000e-01 6.47112704e-01]\n",
            "  [3.87428920e-01 7.14749299e-02 4.59667889e-01]\n",
            "  [3.73470683e-01 1.12550423e-04 8.73250830e-01]]\n",
            "\n",
            " [[8.91259043e-01 8.30250333e-01 8.58998982e-01]\n",
            "  [8.75472742e-01 5.82356469e-01 9.90595002e-02]\n",
            "  [1.35495955e-01 1.82007612e-01 5.47427969e-01]]]\n"
          ]
        }
      ]
    },
    {
      "cell_type": "markdown",
      "source": [
        "#**Create an array of zeros of given shape**\n",
        "\n",
        "np.zeros(): create array of all zeros in given shape\n",
        "\n",
        "np.zeros_like(): create array of all zeros with the same shape and data type as the given input array\n",
        "\n",
        "Simillarlly you can use np.ones and np.empty to create srrays of ones and empty array respectively."
      ],
      "metadata": {
        "id": "qlLWuP6CkN51"
      }
    },
    {
      "cell_type": "code",
      "source": [
        "zeros = np.zeros((2,3))\n",
        "print(zeros)\n"
      ],
      "metadata": {
        "colab": {
          "base_uri": "https://localhost:8080/"
        },
        "id": "Gts8gPrbkFVo",
        "outputId": "3ee35850-e619-4fca-ffe5-c18f5723c239"
      },
      "execution_count": null,
      "outputs": [
        {
          "output_type": "stream",
          "name": "stdout",
          "text": [
            "[[0. 0. 0.]\n",
            " [0. 0. 0.]]\n"
          ]
        }
      ]
    },
    {
      "cell_type": "code",
      "source": [
        "arr = np.array([[1,2], [3,4],[5,6]], dtype=np.complex64) # we are initially telling that elements inside this array should be\n",
        "# of complex data type\n",
        "zeros = np.zeros_like(arr)\n",
        "print(zeros)\n",
        "print(type(zeros.dtype))\n",
        "print('Data Type: ' + str(zeros.dtype)) # we used type casting here"
      ],
      "metadata": {
        "colab": {
          "base_uri": "https://localhost:8080/"
        },
        "id": "YAUZE7lvkYqg",
        "outputId": "7c300763-1097-4ea4-8917-e464c22ccdaf"
      },
      "execution_count": null,
      "outputs": [
        {
          "output_type": "stream",
          "name": "stdout",
          "text": [
            "[[0.+0.j 0.+0.j]\n",
            " [0.+0.j 0.+0.j]\n",
            " [0.+0.j 0.+0.j]]\n",
            "<class 'numpy.dtype[complex64]'>\n",
            "Data Type: complex64\n"
          ]
        }
      ]
    },
    {
      "cell_type": "markdown",
      "source": [
        "#**arange function**\n",
        "\n",
        "this function will help us to directly generate a 1-D array with elements in a specified range"
      ],
      "metadata": {
        "id": "hyuZfrkekpo_"
      }
    },
    {
      "cell_type": "code",
      "source": [
        "A = np.arange(1,10) # 1 will inclusive and 10 will exclusive\n",
        "A\n"
      ],
      "metadata": {
        "colab": {
          "base_uri": "https://localhost:8080/"
        },
        "id": "ds4JcbyPkdg-",
        "outputId": "34c57271-7b07-4a3e-ae37-819bbca9aa37"
      },
      "execution_count": null,
      "outputs": [
        {
          "output_type": "execute_result",
          "data": {
            "text/plain": [
              "array([1, 2, 3, 4, 5, 6, 7, 8, 9])"
            ]
          },
          "metadata": {},
          "execution_count": 14
        }
      ]
    },
    {
      "cell_type": "markdown",
      "source": [
        "#**Create an identity matrix of given size**\n",
        "\n",
        "np.eye(size, k=0): create an identity matrix of given size\n",
        "\n",
        "size: the size of the identity matrix\n",
        "\n",
        "k: the diagonal offset\n",
        "\n",
        "np.identity(): same as np.eye() but does not carry parameters"
      ],
      "metadata": {
        "id": "CPGIAjAOk4Zk"
      }
    },
    {
      "cell_type": "code",
      "source": [
        "identity_matrix = np.eye(5)\n",
        "print(identity_matrix)"
      ],
      "metadata": {
        "colab": {
          "base_uri": "https://localhost:8080/"
        },
        "id": "qRlnLc_sk0N1",
        "outputId": "02efaab7-5010-4e87-f4a4-093b141a22e6"
      },
      "execution_count": null,
      "outputs": [
        {
          "output_type": "stream",
          "name": "stdout",
          "text": [
            "[[1. 0. 0. 0. 0.]\n",
            " [0. 1. 0. 0. 0.]\n",
            " [0. 0. 1. 0. 0.]\n",
            " [0. 0. 0. 1. 0.]\n",
            " [0. 0. 0. 0. 1.]]\n"
          ]
        }
      ]
    },
    {
      "cell_type": "code",
      "source": [
        "# An example of diagonal offset\n",
        "identity_matrix = np.eye(5, k=-1)\n",
        "print(identity_matrix)\n"
      ],
      "metadata": {
        "colab": {
          "base_uri": "https://localhost:8080/"
        },
        "id": "Q67Znx7ylLWB",
        "outputId": "ec7060a0-3046-4d69-d7e4-dac977fc95ad"
      },
      "execution_count": null,
      "outputs": [
        {
          "output_type": "stream",
          "name": "stdout",
          "text": [
            "[[0. 0. 0. 0. 0.]\n",
            " [1. 0. 0. 0. 0.]\n",
            " [0. 1. 0. 0. 0.]\n",
            " [0. 0. 1. 0. 0.]\n",
            " [0. 0. 0. 1. 0.]]\n"
          ]
        }
      ]
    },
    {
      "cell_type": "markdown",
      "source": [
        "#**Stacking of arrays**\n",
        "\n",
        "Stacking means concatinating the elements of two arrays of compatible size , vertically or horizontally"
      ],
      "metadata": {
        "id": "sFTI8uY1ldIt"
      }
    },
    {
      "cell_type": "code",
      "source": [
        "a1 = np.array([[1,2,3],\n",
        "               [4,5,6]])\n",
        "\n",
        "a2 = np.array([[7,8,9],\n",
        "               [10,11,12]])\n",
        "\n",
        "o = np.hstack((a1, a2)) # Horizontal Stacking of Numpy Arrays\n",
        "\n",
        "print(o)"
      ],
      "metadata": {
        "colab": {
          "base_uri": "https://localhost:8080/"
        },
        "id": "sWpJ5XOqlPHr",
        "outputId": "1e39d18d-b974-4bc7-af6e-77cef6e76950"
      },
      "execution_count": null,
      "outputs": [
        {
          "output_type": "stream",
          "name": "stdout",
          "text": [
            "[[ 1  2  3  7  8  9]\n",
            " [ 4  5  6 10 11 12]]\n"
          ]
        }
      ]
    },
    {
      "cell_type": "code",
      "source": [
        "a1 = np.array([[1,2],\n",
        "               [3,4],\n",
        "               [5,6]])\n",
        "\n",
        "a2 = np.array([[7,8],\n",
        "               [9,10],\n",
        "               [10,11]])\n",
        "\n",
        "o = np.vstack((a1, a2)) # Vertically Stacking of Numpy Arrays\n",
        "\n",
        "print(o)\n"
      ],
      "metadata": {
        "colab": {
          "base_uri": "https://localhost:8080/"
        },
        "id": "KcDXCjqnlie4",
        "outputId": "170ae6ab-562c-489c-b17f-fea50cb4c244"
      },
      "execution_count": null,
      "outputs": [
        {
          "output_type": "stream",
          "name": "stdout",
          "text": [
            "[[ 1  2]\n",
            " [ 3  4]\n",
            " [ 5  6]\n",
            " [ 7  8]\n",
            " [ 9 10]\n",
            " [10 11]]\n"
          ]
        }
      ]
    },
    {
      "cell_type": "markdown",
      "source": [
        "#**Mathematics in numpy**\n",
        "\n",
        "you can perfom basic operations on the arrays like addition of a number to all the elements , multiplying a constant to all the elements , giving array as argument to functions like , sin() , cos() , sqrt() , log()"
      ],
      "metadata": {
        "id": "Iy3LK_oolpVe"
      }
    },
    {
      "cell_type": "code",
      "source": [
        "arr = np.random.rand(5,5)\n",
        "arr\n"
      ],
      "metadata": {
        "colab": {
          "base_uri": "https://localhost:8080/"
        },
        "id": "bE8zm1YallwJ",
        "outputId": "fbc678a3-2df2-4d87-b1d3-30d7b24f7dcc"
      },
      "execution_count": null,
      "outputs": [
        {
          "output_type": "execute_result",
          "data": {
            "text/plain": [
              "array([[0.10400345, 0.42224337, 0.6200716 , 0.13148485, 0.34565281],\n",
              "       [0.1569135 , 0.39410388, 0.89861877, 0.07042376, 0.27861765],\n",
              "       [0.96078858, 0.82300661, 0.06463098, 0.1978123 , 0.86194597],\n",
              "       [0.97062868, 0.09314047, 0.09812688, 0.17522479, 0.90505425],\n",
              "       [0.83434482, 0.00425548, 0.04664573, 0.07485515, 0.33734323]])"
            ]
          },
          "metadata": {},
          "execution_count": 19
        }
      ]
    },
    {
      "cell_type": "code",
      "source": [
        "print(arr + 10)\n",
        "print(arr - 10)\n",
        "print(arr * 10)\n",
        "print(arr / 10)"
      ],
      "metadata": {
        "colab": {
          "base_uri": "https://localhost:8080/"
        },
        "id": "chmXVgL3lwR1",
        "outputId": "528888ec-5e68-4768-c2b1-8f10bf338485"
      },
      "execution_count": null,
      "outputs": [
        {
          "output_type": "stream",
          "name": "stdout",
          "text": [
            "[[10.10400345 10.42224337 10.6200716  10.13148485 10.34565281]\n",
            " [10.1569135  10.39410388 10.89861877 10.07042376 10.27861765]\n",
            " [10.96078858 10.82300661 10.06463098 10.1978123  10.86194597]\n",
            " [10.97062868 10.09314047 10.09812688 10.17522479 10.90505425]\n",
            " [10.83434482 10.00425548 10.04664573 10.07485515 10.33734323]]\n",
            "[[-9.89599655 -9.57775663 -9.3799284  -9.86851515 -9.65434719]\n",
            " [-9.8430865  -9.60589612 -9.10138123 -9.92957624 -9.72138235]\n",
            " [-9.03921142 -9.17699339 -9.93536902 -9.8021877  -9.13805403]\n",
            " [-9.02937132 -9.90685953 -9.90187312 -9.82477521 -9.09494575]\n",
            " [-9.16565518 -9.99574452 -9.95335427 -9.92514485 -9.66265677]]\n",
            "[[1.04003448 4.22243369 6.20071604 1.3148485  3.45652812]\n",
            " [1.56913498 3.94103882 8.98618766 0.70423758 2.78617654]\n",
            " [9.60788581 8.2300661  0.64630978 1.978123   8.61945965]\n",
            " [9.70628676 0.93140474 0.98126876 1.75224785 9.05054252]\n",
            " [8.34344821 0.04255481 0.46645726 0.7485515  3.37343233]]\n",
            "[[0.01040034 0.04222434 0.06200716 0.01314848 0.03456528]\n",
            " [0.01569135 0.03941039 0.08986188 0.00704238 0.02786177]\n",
            " [0.09607886 0.08230066 0.0064631  0.01978123 0.0861946 ]\n",
            " [0.09706287 0.00931405 0.00981269 0.01752248 0.09050543]\n",
            " [0.08343448 0.00042555 0.00466457 0.00748551 0.03373432]]\n"
          ]
        }
      ]
    },
    {
      "cell_type": "code",
      "source": [
        "# the above operations can be performed using numpy built-in functions\n",
        "# which can save memory as the output can be stored in the original array rather than assigning new memory\n",
        "arr1 = np.array([1,2,3])\n",
        "np.add(arr1, [8,9,10], out=arr1)\n",
        "print(arr1)\n",
        "\n",
        "np.subtract(arr1, [8,9,10], out=arr1)\n",
        "print(arr1)\n",
        "\n",
        "np.multiply(arr1, [1,2,3], out=arr1)\n",
        "print(arr1)\n"
      ],
      "metadata": {
        "colab": {
          "base_uri": "https://localhost:8080/"
        },
        "id": "08R4q1Uylzpq",
        "outputId": "526b50e8-3d5f-42b2-9cfa-a6d61305f6ce"
      },
      "execution_count": null,
      "outputs": [
        {
          "output_type": "stream",
          "name": "stdout",
          "text": [
            "[ 9 11 13]\n",
            "[1 2 3]\n",
            "[1 4 9]\n"
          ]
        }
      ]
    },
    {
      "cell_type": "code",
      "source": [
        "print(np.exp(arr)) # exponetial function of arr\n",
        "# natural log\n",
        "print(np.log(arr))\n",
        "print()\n",
        "# base 2\n",
        "print(np.log2(arr))\n",
        "print()\n",
        "# base 10\n",
        "print(np.log10(arr))\n",
        "print()\n",
        "# elementwise sin(arr)\n",
        "print(np.sin(arr))\n",
        "print()\n",
        "# elementwise square root\n",
        "print(np.sqrt(arr))"
      ],
      "metadata": {
        "colab": {
          "base_uri": "https://localhost:8080/"
        },
        "id": "cb4oRqo-l4Go",
        "outputId": "4e4d49f6-1012-42a7-b300-70dd4d5fafc2"
      },
      "execution_count": null,
      "outputs": [
        {
          "output_type": "stream",
          "name": "stdout",
          "text": [
            "[[1.10960428 1.52537971 1.85906115 1.14052063 1.41291198]\n",
            " [1.16989441 1.4830546  2.45620817 1.07296276 1.32130205]\n",
            " [2.61375682 2.27733662 1.06676529 1.21873362 2.3677638 ]\n",
            " [2.63960339 1.09761591 1.10310273 1.19151402 2.47206603]\n",
            " [2.30330448 1.00426455 1.04775075 1.07772803 1.40121993]]\n",
            "[[-2.26333123 -0.86217343 -0.47792032 -2.02886364 -1.06232044]\n",
            " [-1.85206059 -0.93114074 -0.1068964  -2.65322461 -1.27791485]\n",
            " [-0.04000089 -0.19479105 -2.73906144 -1.62043668 -0.1485627 ]\n",
            " [-0.0298113  -2.37364645 -2.32149398 -1.74168564 -0.09976039]\n",
            " [-0.18110851 -5.45954758 -3.06517398 -2.59220037 -1.08665437]]\n",
            "\n",
            "[[-3.26529674 -1.24385333 -0.68949327 -2.92703152 -1.53260443]\n",
            " [-2.67195863 -1.34335213 -0.1542189  -3.82779398 -1.84364142]\n",
            " [-0.05770909 -0.28102408 -3.95163036 -2.33779596 -0.21433066]\n",
            " [-0.04300861 -3.42444797 -3.34920786 -2.51272124 -0.14392382]\n",
            " [-0.26128435 -7.87646223 -4.4221113  -3.73975462 -1.56771087]]\n",
            "\n",
            "[[-0.98295226 -0.37443716 -0.20755816 -0.88112429 -0.46135991]\n",
            " [-0.8043397  -0.40438929 -0.04642452 -1.15228081 -0.55499137]\n",
            " [-0.01737217 -0.08459668 -1.18955927 -0.70374671 -0.06451996]\n",
            " [-0.01294688 -1.03086156 -1.00821203 -0.75640446 -0.04332539]\n",
            " [-0.07865443 -2.37105139 -1.33118815 -1.12577832 -0.471928  ]]\n",
            "\n",
            "[[0.10381605 0.40980782 0.58109344 0.13110632 0.33881095]\n",
            " [0.15627037 0.38398092 0.78246757 0.07036556 0.27502687]\n",
            " [0.81964358 0.73319369 0.06458599 0.19652477 0.75911075]\n",
            " [0.82524094 0.09300586 0.09796948 0.17432949 0.78645866]\n",
            " [0.74085661 0.00425547 0.04662881 0.07478526 0.33098124]]\n",
            "\n",
            "[[0.32249566 0.64980256 0.78744625 0.3626084  0.58792245]\n",
            " [0.39612308 0.62777694 0.94795504 0.26537475 0.52784245]\n",
            " [0.98019824 0.90719712 0.25422623 0.44476095 0.92841045]\n",
            " [0.98520489 0.30518924 0.3132521  0.4185986  0.95134339]\n",
            " [0.91342478 0.06523404 0.21597622 0.27359669 0.58081256]]\n"
          ]
        }
      ]
    },
    {
      "cell_type": "markdown",
      "source": [
        "#**Matrix as a NumPy array**\n",
        "\n",
        "Everything in NumPy is an array. A matrix is also an array. Let us create a simple matrix:\n",
        "\n",
        "\n",
        "In NumPy:"
      ],
      "metadata": {
        "id": "DlCOz67VnDm9"
      }
    },
    {
      "cell_type": "code",
      "source": [
        "M = np.array([[1,2,3],[4,5,6],[7,8,9]])\n",
        "M\n"
      ],
      "metadata": {
        "colab": {
          "base_uri": "https://localhost:8080/"
        },
        "id": "wSZY3r5zl8Ng",
        "outputId": "72da7ec9-32ac-4cfe-f09d-407aa8f46e31"
      },
      "execution_count": null,
      "outputs": [
        {
          "output_type": "execute_result",
          "data": {
            "text/plain": [
              "array([[1, 2, 3],\n",
              "       [4, 5, 6],\n",
              "       [7, 8, 9]])"
            ]
          },
          "metadata": {},
          "execution_count": 23
        }
      ]
    },
    {
      "cell_type": "code",
      "source": [
        "A = np.array([[1,2],[3,4]])\n",
        "B = np.array([[5,6],[7,8]])\n",
        "print(A+B)  #Adding two matrices\n"
      ],
      "metadata": {
        "colab": {
          "base_uri": "https://localhost:8080/"
        },
        "id": "ER7rYe0KnJph",
        "outputId": "bb5a40b2-abf8-4e66-88fe-a1fd6d86d76c"
      },
      "execution_count": null,
      "outputs": [
        {
          "output_type": "stream",
          "name": "stdout",
          "text": [
            "[[ 6  8]\n",
            " [10 12]]\n"
          ]
        }
      ]
    },
    {
      "cell_type": "code",
      "source": [
        "A = np.arange(1,10).reshape(3,3)\n",
        "print(3*A)  #Scaling a matrix is nothing but element-wise multiplication:"
      ],
      "metadata": {
        "colab": {
          "base_uri": "https://localhost:8080/"
        },
        "id": "r-w620lhnSQU",
        "outputId": "25b02e73-cd57-4f94-914c-864c2281b882"
      },
      "execution_count": null,
      "outputs": [
        {
          "output_type": "stream",
          "name": "stdout",
          "text": [
            "[[ 3  6  9]\n",
            " [12 15 18]\n",
            " [21 24 27]]\n"
          ]
        }
      ]
    },
    {
      "cell_type": "code",
      "source": [
        "A = np.array([[1,2],[3,4]])\n",
        "B = np.array([[5,6],[7,8]])\n",
        "print(A*B) #Element-wise multiplication of matrices\n"
      ],
      "metadata": {
        "colab": {
          "base_uri": "https://localhost:8080/"
        },
        "id": "pKyzvW-FnXEG",
        "outputId": "75cc7241-d028-45fc-bce2-bd7dfa3584a2"
      },
      "execution_count": null,
      "outputs": [
        {
          "output_type": "stream",
          "name": "stdout",
          "text": [
            "[[ 5 12]\n",
            " [21 32]]\n"
          ]
        }
      ]
    },
    {
      "cell_type": "code",
      "source": [
        "A = np.array([[1 , np.sqrt(2)],[np.sqrt(3),2]]) # np.sqrt() is a mathematical tool for square root of a number\n",
        "B = A**2\n",
        "print(B) # using np.sqrt() will convert the values inside the matrix into float type by default."
      ],
      "metadata": {
        "colab": {
          "base_uri": "https://localhost:8080/"
        },
        "id": "53dCxv64nlGS",
        "outputId": "890d7e89-9395-42d4-efe0-835cb5dc6f41"
      },
      "execution_count": null,
      "outputs": [
        {
          "output_type": "stream",
          "name": "stdout",
          "text": [
            "[[1. 2.]\n",
            " [3. 4.]]\n"
          ]
        }
      ]
    },
    {
      "cell_type": "code",
      "source": [
        "M = np.array([[1,2,3],[4,5,6]])\n",
        "y = np.transpose(M)\n",
        "y  #Transpose of a matrix\n"
      ],
      "metadata": {
        "colab": {
          "base_uri": "https://localhost:8080/"
        },
        "id": "yqu2CLTnnrCG",
        "outputId": "2755072a-bf00-416c-8259-65e0e224297b"
      },
      "execution_count": null,
      "outputs": [
        {
          "output_type": "execute_result",
          "data": {
            "text/plain": [
              "array([[1, 4],\n",
              "       [2, 5],\n",
              "       [3, 6]])"
            ]
          },
          "metadata": {},
          "execution_count": 28
        }
      ]
    },
    {
      "cell_type": "code",
      "source": [
        "y = M.T # better option than np.transpose\n",
        "y"
      ],
      "metadata": {
        "colab": {
          "base_uri": "https://localhost:8080/"
        },
        "id": "fd1Pe3Pynxpd",
        "outputId": "782c90e9-5872-489f-f8b0-d91e207f9a9e"
      },
      "execution_count": null,
      "outputs": [
        {
          "output_type": "execute_result",
          "data": {
            "text/plain": [
              "array([[1, 4],\n",
              "       [2, 5],\n",
              "       [3, 6]])"
            ]
          },
          "metadata": {},
          "execution_count": 29
        }
      ]
    },
    {
      "cell_type": "markdown",
      "source": [
        "#**Products involving matrices and vectors**\n",
        "\n",
        "We will look at the following products:\n",
        "\n",
        "matrix - matrix\n",
        "\n",
        "matrix - vector\n",
        "\n",
        "vector - matrix\n",
        "\n",
        "vector - vector"
      ],
      "metadata": {
        "id": "U5j67heSn7Hf"
      }
    },
    {
      "cell_type": "code",
      "source": [
        "A = np.array([[1,2,3],[4,5,6]])\n",
        "B = np.array([[7,8],[9,10],[11,12]])\n",
        "A @ B #Product of two matrices"
      ],
      "metadata": {
        "colab": {
          "base_uri": "https://localhost:8080/"
        },
        "id": "Ik9zpAeUn1Bn",
        "outputId": "e1bd706c-3692-4585-82d1-cb2e8b678d1f"
      },
      "execution_count": null,
      "outputs": [
        {
          "output_type": "execute_result",
          "data": {
            "text/plain": [
              "array([[ 58,  64],\n",
              "       [139, 154]])"
            ]
          },
          "metadata": {},
          "execution_count": 30
        }
      ]
    },
    {
      "cell_type": "code",
      "source": [
        "A = np.array([[1,2,3],[4,5,6],[7,8,9]])\n",
        "X = np.array([6,7,8])\n",
        "A @ X # here even if you don't give the transposed matrix , it will automatically do the transpose and give you the ccorrect #Product of a matrix and a (column) vector"
      ],
      "metadata": {
        "colab": {
          "base_uri": "https://localhost:8080/"
        },
        "id": "f-vAFhIIoHxB",
        "outputId": "012c6bb6-f29e-41b7-db59-0eff6b6522ea"
      },
      "execution_count": null,
      "outputs": [
        {
          "output_type": "execute_result",
          "data": {
            "text/plain": [
              "array([ 44, 107, 170])"
            ]
          },
          "metadata": {},
          "execution_count": 31
        }
      ]
    },
    {
      "cell_type": "code",
      "source": [
        "#(Inner) Product of a (row) vector and a (column) vector\n",
        "#The product of a row vector and a column vector is nothing but the usual dot product\n",
        "# you can again use @ here , it will give you the required answer"
      ],
      "metadata": {
        "id": "YudoiYJioRwF"
      },
      "execution_count": null,
      "outputs": []
    },
    {
      "cell_type": "markdown",
      "source": [
        "#**Indexing and Slicing**\n",
        "\n",
        "Just like lists in Python, NumPy arrays can be indexed and sliced. Slicing is useful if we want to work with a portion of an array. We will look at some examples."
      ],
      "metadata": {
        "id": "PTANW5sponK5"
      }
    },
    {
      "cell_type": "code",
      "source": [
        "V = np.arange(1,11) # it can't shape a 1-D array of prime number of elements to any new shape.\n",
        "V = V.reshape(5,2) # will make our life simpler by converting an array to required shape.\n",
        "# if you set any one parameter to -1 in reshape() funtion will automatically compute the valid value of that particular parameter.\n",
        "V #Row-slice"
      ],
      "metadata": {
        "colab": {
          "base_uri": "https://localhost:8080/"
        },
        "id": "8xsYLoXXoh0w",
        "outputId": "b33e97f7-b184-4705-90ce-3bc9fd3356c6"
      },
      "execution_count": null,
      "outputs": [
        {
          "output_type": "execute_result",
          "data": {
            "text/plain": [
              "array([[ 1,  2],\n",
              "       [ 3,  4],\n",
              "       [ 5,  6],\n",
              "       [ 7,  8],\n",
              "       [ 9, 10]])"
            ]
          },
          "metadata": {},
          "execution_count": 33
        }
      ]
    },
    {
      "cell_type": "code",
      "source": [
        "print(V[2]) #for rows you can just simply apply the logic of list indexing method to get your answer.\n"
      ],
      "metadata": {
        "colab": {
          "base_uri": "https://localhost:8080/"
        },
        "id": "_4dT0lQiosqi",
        "outputId": "4bd45f22-7189-4499-8493-46d16a214df2"
      },
      "execution_count": null,
      "outputs": [
        {
          "output_type": "stream",
          "name": "stdout",
          "text": [
            "[5 6]\n"
          ]
        }
      ]
    },
    {
      "cell_type": "code",
      "source": [
        "V = np.arange(1,10).reshape(3,3) # you can attach two functions to make your code shorter.\n",
        "V #Column slice\n"
      ],
      "metadata": {
        "colab": {
          "base_uri": "https://localhost:8080/"
        },
        "id": "veKC5yC2o1nX",
        "outputId": "f1367302-767c-4cef-909b-69682c4c02bd"
      },
      "execution_count": null,
      "outputs": [
        {
          "output_type": "execute_result",
          "data": {
            "text/plain": [
              "array([[1, 2, 3],\n",
              "       [4, 5, 6],\n",
              "       [7, 8, 9]])"
            ]
          },
          "metadata": {},
          "execution_count": 35
        }
      ]
    },
    {
      "cell_type": "code",
      "source": [
        "print(V[1,2]) # this simply means traversing to 2nd row and 3rd column\n",
        "print(V[:,1]) # adding a colon means getting all the elements related to that parameter."
      ],
      "metadata": {
        "colab": {
          "base_uri": "https://localhost:8080/"
        },
        "id": "Bfm8a7I0o5Fl",
        "outputId": "88861477-f8b2-416f-ec80-e7d81b298c82"
      },
      "execution_count": null,
      "outputs": [
        {
          "output_type": "stream",
          "name": "stdout",
          "text": [
            "6\n",
            "[2 5 8]\n"
          ]
        }
      ]
    },
    {
      "cell_type": "code",
      "source": [
        "V = np.arange(1,17).reshape(4,4)\n",
        "V #Submatrix slice\n"
      ],
      "metadata": {
        "colab": {
          "base_uri": "https://localhost:8080/"
        },
        "id": "MktPrZmKpBT4",
        "outputId": "bdd7db11-85a1-4192-eabc-5e0f1d982dcf"
      },
      "execution_count": null,
      "outputs": [
        {
          "output_type": "execute_result",
          "data": {
            "text/plain": [
              "array([[ 1,  2,  3,  4],\n",
              "       [ 5,  6,  7,  8],\n",
              "       [ 9, 10, 11, 12],\n",
              "       [13, 14, 15, 16]])"
            ]
          },
          "metadata": {},
          "execution_count": 37
        }
      ]
    },
    {
      "cell_type": "code",
      "source": [
        "# In line 22 , we just used 1 number for input in row and column , but we can give a series\n",
        "# of rows and columns as input which will enable us to use submatrix slice\n",
        "\n",
        "V[1:3 , 2:4] #here we used '1:3' to specify that we wan't 2nd to 3rd row. we used '2:4' to\n",
        "# specify that we want from column 3 to 4 . And hence u can see the result."
      ],
      "metadata": {
        "colab": {
          "base_uri": "https://localhost:8080/"
        },
        "id": "ez3TUldopErb",
        "outputId": "43092a4c-87d4-4877-f3d0-85d20552e01c"
      },
      "execution_count": null,
      "outputs": [
        {
          "output_type": "execute_result",
          "data": {
            "text/plain": [
              "array([[ 7,  8],\n",
              "       [11, 12]])"
            ]
          },
          "metadata": {},
          "execution_count": 38
        }
      ]
    },
    {
      "cell_type": "markdown",
      "source": [
        "#**Matrix algebra**\n",
        "\n",
        "There are several important matrix operations that we will list down here. The np.linalg module helps us perform these operations effortlessly.\n",
        "\n",
        "**Rank, Inverse**\n"
      ],
      "metadata": {
        "id": "a5arfum_pRRd"
      }
    },
    {
      "cell_type": "code",
      "source": [
        "V[1,2]=22  # changed an element in previous matrix , as that was a singular matrix , whose inverse is not possible.\n",
        "\n",
        "# rank\n",
        "\n",
        "print(np.linalg.matrix_rank(V))\n",
        "\n",
        "# inverse\n",
        "\n",
        "print(np.linalg.inv(V))"
      ],
      "metadata": {
        "colab": {
          "base_uri": "https://localhost:8080/"
        },
        "id": "BKXqM5B6pMsI",
        "outputId": "8de0480e-d036-47e3-8d10-61dd8b7447cc"
      },
      "execution_count": null,
      "outputs": [
        {
          "output_type": "stream",
          "name": "stdout",
          "text": [
            "3\n",
            "[[ 3.75299969e+14 -6.66666667e-02 -1.12589991e+15  7.50599938e+14]\n",
            " [-5.62949953e+14  6.66666667e-02  1.68884986e+15 -1.12589991e+15]\n",
            " [-5.55555556e-02  6.66666667e-02  3.33333333e-02 -4.44444444e-02]\n",
            " [ 1.87649984e+14 -6.66666667e-02 -5.62949953e+14  3.75299969e+14]]\n"
          ]
        }
      ]
    },
    {
      "cell_type": "code",
      "source": [
        "M = np.array([[1,2,3],[3,6,9]])\n",
        "print(np.linalg.matrix_rank(M))\n",
        "print(np.linalg.pinv(M)) # pseudo-inverse"
      ],
      "metadata": {
        "colab": {
          "base_uri": "https://localhost:8080/"
        },
        "id": "jz5UmnempYDi",
        "outputId": "c589cb90-953b-455b-e0e4-7a932564bfe3"
      },
      "execution_count": null,
      "outputs": [
        {
          "output_type": "stream",
          "name": "stdout",
          "text": [
            "1\n",
            "[[0.00714286 0.02142857]\n",
            " [0.01428571 0.04285714]\n",
            " [0.02142857 0.06428571]]\n"
          ]
        }
      ]
    },
    {
      "cell_type": "code",
      "source": [
        "M = np.array([[1,0,-3],[0,5,2],[-3,2,8]])\n",
        "\n",
        "eigen_values , eigen_vector = np.linalg.eigh(M) # linal.eigh() returns two values , the 1st one is eigne values and 2nd is corresponding eigen vectors.\n",
        "\n",
        "print(eigen_values , eigen_vector) #EIGEN VALUES , EIGEN VECTORS\n"
      ],
      "metadata": {
        "colab": {
          "base_uri": "https://localhost:8080/"
        },
        "id": "N_awMGm0pewn",
        "outputId": "77ddbe27-78b4-45fd-f14b-ec12ed8129b4"
      },
      "execution_count": null,
      "outputs": [
        {
          "output_type": "stream",
          "name": "stdout",
          "text": [
            "[-0.20942046  4.36588492  9.84353554] [[ 0.91805853  0.26010485 -0.2991889 ]\n",
            " [-0.14209114  0.92042494  0.36418131]\n",
            " [ 0.37010626 -0.29182767  0.88196257]]\n"
          ]
        }
      ]
    }
  ]
}